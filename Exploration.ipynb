{
 "cells": [
  {
   "cell_type": "code",
   "execution_count": 38,
   "metadata": {},
   "outputs": [],
   "source": [
    "import scipy.io\n",
    "import pandas as pd\n",
    "import numpy as np\n",
    "mat = scipy.io.loadmat('/Users/osx/Documents/TU Dortmund/1) Data Who is talking-20211019/sample_1.mat')\n",
    "%matplotlib inline\n",
    "import matplotlib.pyplot as plt"
   ]
  },
  {
   "cell_type": "code",
   "execution_count": 8,
   "metadata": {},
   "outputs": [
    {
     "name": "stdout",
     "output_type": "stream",
     "text": [
      "{'__header__': b'MATLAB 5.0 MAT-file, Platform: PCWIN, Created on: Fri May 29 09:02:26 2009', '__version__': '1.0', '__globals__': [], 'samplingInterval': array([[0.04166667]]), 'startData': array([[0]], dtype=uint8), 'chan': array([[1]], dtype=uint8), 'data': array([[4.72638058, 4.26466759, 0.88346865, ..., 6.72553154, 5.56207971,\n",
      "        3.00585866]]), 'spike_times': array([[array([[    545,    1127,    2017, ..., 2877892, 2878542, 2879588]],\n",
      "      dtype=int32)]], dtype=object), 'spike_class': array([[array([[0, 0, 1, ..., 0, 0, 0]], dtype=uint8)]], dtype=object)}\n"
     ]
    }
   ],
   "source": [
    "print(mat)"
   ]
  },
  {
   "cell_type": "code",
   "execution_count": 60,
   "metadata": {},
   "outputs": [
    {
     "name": "stdout",
     "output_type": "stream",
     "text": [
      "2880000\n",
      "             data       index\n",
      "0        4.726381    0.000000\n",
      "1        4.264668    0.000042\n",
      "2        0.883469    0.000083\n",
      "3       -4.506521    0.000125\n",
      "4       -6.566734    0.000167\n",
      "...           ...         ...\n",
      "2879995 -1.223251  119.999792\n",
      "2879996  1.773489  119.999833\n",
      "2879997  6.725532  119.999875\n",
      "2879998  5.562080  119.999917\n",
      "2879999  3.005859  119.999958\n",
      "\n",
      "[2880000 rows x 2 columns]\n"
     ]
    },
    {
     "data": {
      "text/plain": [
       "(0.0, 0.023999991666666668)"
      ]
     },
     "execution_count": 60,
     "metadata": {},
     "output_type": "execute_result"
    },
    {
     "data": {
      "image/png": "[encoded data removed]",
      "text/plain": [
       "<Figure size 432x288 with 1 Axes>"
      ]
     },
     "metadata": {
      "needs_background": "light"
     },
     "output_type": "display_data"
    }
   ],
   "source": [
    "\n",
    "data = {'data':mat['data'],\n",
    "        'spike_times': mat['spike_times']}\n",
    "print(data['data'].size)\n",
    "\n",
    "\n",
    "index=np.arange(data['data'].size)/24000\n",
    "df = pd.DataFrame({'data': data['data'][0], 'index': index})\n",
    "print(df)\n",
    "plt.plot(df['index'], df['data'], '.', color='black');\n",
    "plt.xlim(df['index'].min() * 0.0002, df['index'].max() * 0.0002)\n",
    "# plt.ylim(df['data'].min() * 0.1, df['data'].max() * 0.1)\n"
   ]
  },
  {
   "cell_type": "code",
   "execution_count": null,
   "metadata": {},
   "outputs": [],
   "source": []
  }
 ],
 "metadata": {
  "kernelspec": {
   "display_name": "Python 3",
   "language": "python",
   "name": "python3"
  },
  "language_info": {
   "codemirror_mode": {
    "name": "ipython",
    "version": 3
   },
   "file_extension": ".py",
   "mimetype": "text/x-python",
   "name": "python",
   "nbconvert_exporter": "python",
   "pygments_lexer": "ipython3",
   "version": "3.8.5"
  }
 },
 "nbformat": 4,
 "nbformat_minor": 4
}
